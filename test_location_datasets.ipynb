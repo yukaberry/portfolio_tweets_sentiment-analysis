{
 "cells": [
  {
   "cell_type": "markdown",
   "metadata": {},
   "source": [
    "# Use the final model(logistic regression) to see its accuracy on test datasets from Berlin, Melbourne and New York"
   ]
  },
  {
   "cell_type": "markdown",
   "metadata": {},
   "source": [
    "# Berlin"
   ]
  },
  {
   "cell_type": "code",
   "execution_count": 1,
   "metadata": {},
   "outputs": [
    {
     "ename": "NameError",
     "evalue": "name 'nltk' is not defined",
     "output_type": "error",
     "traceback": [
      "\u001b[1;31m---------------------------------------------------------------------------\u001b[0m",
      "\u001b[1;31mNameError\u001b[0m                                 Traceback (most recent call last)",
      "\u001b[1;32m<ipython-input-1-920323d485a2>\u001b[0m in \u001b[0;36m<module>\u001b[1;34m\u001b[0m\n\u001b[0;32m      8\u001b[0m \u001b[1;32mfrom\u001b[0m \u001b[0msklearn\u001b[0m\u001b[1;33m.\u001b[0m\u001b[0mfeature_extraction\u001b[0m\u001b[1;33m.\u001b[0m\u001b[0mtext\u001b[0m \u001b[1;32mimport\u001b[0m \u001b[0mTfidfVectorizer\u001b[0m\u001b[1;33m\u001b[0m\u001b[1;33m\u001b[0m\u001b[0m\n\u001b[0;32m      9\u001b[0m \u001b[1;32mfrom\u001b[0m \u001b[0msklearn\u001b[0m\u001b[1;33m.\u001b[0m\u001b[0mpreprocessing\u001b[0m \u001b[1;32mimport\u001b[0m \u001b[0mMinMaxScaler\u001b[0m\u001b[1;33m\u001b[0m\u001b[1;33m\u001b[0m\u001b[0m\n\u001b[1;32m---> 10\u001b[1;33m \u001b[1;32mfrom\u001b[0m \u001b[0mutils\u001b[0m\u001b[1;33m.\u001b[0m\u001b[0mdata_cleaning_utils\u001b[0m \u001b[1;32mimport\u001b[0m \u001b[0maddt_var_for_model\u001b[0m\u001b[1;33m\u001b[0m\u001b[1;33m\u001b[0m\u001b[0m\n\u001b[0m\u001b[0;32m     11\u001b[0m \u001b[1;32mfrom\u001b[0m \u001b[0mutils\u001b[0m\u001b[1;33m.\u001b[0m\u001b[0mdata_cleaning_utils\u001b[0m \u001b[1;32mimport\u001b[0m \u001b[0mcombine_feature_dfs\u001b[0m\u001b[1;33m\u001b[0m\u001b[1;33m\u001b[0m\u001b[0m\n\u001b[0;32m     12\u001b[0m \u001b[1;33m\u001b[0m\u001b[0m\n",
      "\u001b[1;32m~\\Documents\\Study\\Portfolio\\twitter_sentiment_analysis\\utils\\data_cleaning_utils.py\u001b[0m in \u001b[0;36m<module>\u001b[1;34m\u001b[0m\n\u001b[0;32m     25\u001b[0m     \u001b[1;32mreturn\u001b[0m \u001b[0mtest_stack\u001b[0m\u001b[1;33m\u001b[0m\u001b[1;33m\u001b[0m\u001b[0m\n\u001b[0;32m     26\u001b[0m \u001b[1;33m\u001b[0m\u001b[0m\n\u001b[1;32m---> 27\u001b[1;33m \u001b[0mnltk\u001b[0m\u001b[1;33m.\u001b[0m\u001b[0mdownload\u001b[0m\u001b[1;33m(\u001b[0m\u001b[1;34m'stopwords'\u001b[0m\u001b[1;33m)\u001b[0m\u001b[1;33m\u001b[0m\u001b[1;33m\u001b[0m\u001b[0m\n\u001b[0m\u001b[0;32m     28\u001b[0m \u001b[0mstopwords\u001b[0m \u001b[1;33m=\u001b[0m \u001b[0mset\u001b[0m\u001b[1;33m(\u001b[0m\u001b[0mstopwords\u001b[0m\u001b[1;33m.\u001b[0m\u001b[0mwords\u001b[0m\u001b[1;33m(\u001b[0m\u001b[1;34m'english'\u001b[0m\u001b[1;33m)\u001b[0m\u001b[1;33m)\u001b[0m\u001b[1;33m\u001b[0m\u001b[1;33m\u001b[0m\u001b[0m\n\u001b[0;32m     29\u001b[0m \u001b[1;33m\u001b[0m\u001b[0m\n",
      "\u001b[1;31mNameError\u001b[0m: name 'nltk' is not defined"
     ]
    }
   ],
   "source": [
    "import pandas as pd\n",
    "import numpy as np\n",
    "from sklearn.linear_model import LogisticRegression\n",
    "from sklearn.model_selection import train_test_split\n",
    "import pickle\n",
    "from sklearn.metrics import accuracy_score\n",
    "from sklearn.metrics import classification_report\n",
    "from sklearn.feature_extraction.text import TfidfVectorizer\n",
    "from sklearn.preprocessing import MinMaxScaler\n",
    "from utils.data_cleaning_utils import addt_var_for_model\n",
    "from utils.data_cleaning_utils import combine_feature_dfs\n",
    "\n",
    "\n",
    "df = pd.read_csv(\"data/negative_or_not_negative_df.csv\")\n",
    "\n",
    "# 2 gram max TF-IDF\n",
    "tfidf_vectorizer = TfidfVectorizer(ngram_range = (1,2), sublinear_tf = True)\n",
    "\n",
    "# TF-IDF feature matrix\n",
    "tfidf = tfidf_vectorizer.fit_transform(df[\"toke_stem_stop\"])\n",
    "\n",
    "textToVectors = TfidfVectorizer(use_idf=True) # check tweets # To fix \n",
    "transformed = textToVectors.fit_transform(df[\"toke_stem_stop\"])\n",
    "vocab = textToVectors.fit(df[\"toke_stem_stop\"]).vocabulary_\n",
    "\n",
    "# Standardization numeric variables\n",
    "num_features=[\"RetweetCount\",\"FavoriteCount\",\"followers\"]\n",
    "\n",
    "for col in num_features:\n",
    "    scaler = MinMaxScaler()\n",
    "    df[col] = scaler.fit_transform(np.array(df[col].values).reshape(-1, 1))\n",
    "\n",
    "# Create final datasets for modeling\n",
    "addt_vars_df = addt_var_for_model(df,num_features)\n",
    "data_stack = combine_feature_dfs(tfidf, addt_vars_df)\n",
    "\n",
    "# Split X and y values\n",
    "X = data_stack\n",
    "y= df['Sentiment_negative']\n",
    "# import pdb; pdb.set_trace()\n",
    "\n",
    "# Split data\n",
    "X_train, X_test, y_train, y_test = train_test_split(X, y,random_state=42,stratify=y)\n",
    "\n",
    "# Pass turned hyperparameters\n",
    "log_ran = LogisticRegression(C =2.28024468035746, dual=False, penalty= 'l2', solver='lbfgs')\n",
    "log_ran.fit(X_train,y_train)\n",
    "y_pred = log_ran.predict(X_test)\n",
    "\n",
    "# save a model\n",
    "pickle_model = 'models/finalized_model_log.sav'\n",
    "pickle.dump(log_ran, open(pickle_model, 'wb'))\n",
    "\n",
    "# load picked model\n",
    "loaded_model = pickle.load(open(pickle_model, 'rb'))\n",
    "result = loaded_model.score(X_test, y_test)\n",
    "print(\"result of base dataset\")\n",
    "print(result)\n",
    "\n",
    "\n",
    "\"\"\"test dataset\"\"\" \n",
    "\n",
    "df1 = pd.read_csv(\"data/processed/clean_test_ber.csv\")\n",
    "\n",
    "# TF-IDF feature matrix\n",
    "tfidf1 = tfidf_vectorizer.transform(df1[\"tidy_tweet\"])\n",
    "\n",
    "transformed1 = textToVectors.transform(df1[\"tidy_tweet\"])\n",
    "\n",
    "# Standardization numeric variables\n",
    "num_features1=[\"RetweetCount\",\"FavoriteCount\",\"followers\"]\n",
    "\n",
    "for col1 in num_features1:\n",
    "    df1[col1] = scaler.transform(np.array(df1[col1].values).reshape(-1, 1))\n",
    "\n",
    "# Create final datasets for modeling\n",
    "addt_vars_df1 = addt_var_for_model(df1,num_features1)\n",
    "data_stack1 = combine_feature_dfs(tfidf1, addt_vars_df1)\n",
    "\n",
    "# Split X and y values\n",
    "X1 = data_stack1\n",
    "y1 = df1['Sentiment']\n",
    "\n",
    "# Split data\n",
    "X_train1, X_test1, y_train1, y_test1 = train_test_split(X1, y1,random_state=42,stratify=y1)\n",
    "\n",
    "# test Berlin  \n",
    "result1 = loaded_model.score(X_test1, y_test1)\n",
    "\n",
    "print(\"The result of Berlin dataset\")\n",
    "print(result1)"
   ]
  },
  {
   "cell_type": "markdown",
   "metadata": {},
   "source": [
    "# Melbourne"
   ]
  },
  {
   "cell_type": "code",
   "execution_count": 5,
   "metadata": {},
   "outputs": [
    {
     "name": "stdout",
     "output_type": "stream",
     "text": [
      "the result of Melbourne dataset\n",
      "0.3333333333333333\n"
     ]
    }
   ],
   "source": [
    "\"\"\"test dataset\"\"\" \n",
    "\n",
    "df1 = pd.read_csv(\"data/processed/clean_test_mel.csv\")\n",
    "\n",
    "# TF-IDF feature matrix\n",
    "tfidf1 = tfidf_vectorizer.transform(df1[\"tidy_tweet\"])\n",
    "\n",
    "transformed1 = textToVectors.transform(df1[\"tidy_tweet\"])\n",
    "\n",
    "# Standardization numeric variables\n",
    "num_features1=[\"RetweetCount\",\"FavoriteCount\",\"followers\"]\n",
    "\n",
    "for col1 in num_features1:\n",
    "    df1[col1] = scaler.transform(np.array(df1[col1].values).reshape(-1, 1))\n",
    "\n",
    "# Create final datasets for modeling\n",
    "addt_vars_df1 = addt_var_for_model(df1,num_features1)\n",
    "data_stack1 = combine_feature_dfs(tfidf1, addt_vars_df1)\n",
    "\n",
    "# Split X and y values\n",
    "X1 = data_stack1\n",
    "y1 = df1['Sentiment']\n",
    "\n",
    "# Split data\n",
    "X_train1, X_test1, y_train1, y_test1 = train_test_split(X1, y1,random_state=42,stratify=y1)\n",
    "\n",
    "# test Melbourne \n",
    "result1 = loaded_model.score(X_test1, y_test1)\n",
    "\n",
    "print(\"the result of Melbourne dataset\")\n",
    "print(result1)\n"
   ]
  },
  {
   "cell_type": "markdown",
   "metadata": {},
   "source": [
    "# New York"
   ]
  },
  {
   "cell_type": "code",
   "execution_count": 6,
   "metadata": {},
   "outputs": [
    {
     "name": "stdout",
     "output_type": "stream",
     "text": [
      "the result of NY dataset\n",
      "0.6666666666666666\n"
     ]
    }
   ],
   "source": [
    "\n",
    "\"\"\"test dataset\"\"\" \n",
    "\n",
    "df1 = pd.read_csv(\"data/processed/clean_test_ny.csv\")\n",
    "\n",
    "# TF-IDF feature matrix\n",
    "tfidf1 = tfidf_vectorizer.transform(df1[\"tidy_tweet\"])\n",
    " \n",
    "transformed1 = textToVectors.transform(df1[\"tidy_tweet\"])\n",
    "\n",
    "# Standardization numeric variables\n",
    "num_features1=[\"RetweetCount\",\"FavoriteCount\",\"followers\"]\n",
    "\n",
    "for col1 in num_features1:\n",
    "    df1[col1] = scaler.transform(np.array(df1[col1].values).reshape(-1, 1))\n",
    "\n",
    "# Create final datasets for modeling\n",
    "addt_vars_df1 = addt_var_for_model(df1,num_features1)\n",
    "data_stack1 = combine_feature_dfs(tfidf1, addt_vars_df1)\n",
    "\n",
    "# Split X and y values\n",
    "X1 = data_stack1\n",
    "y1 = df1['Sentiment']\n",
    "\n",
    "# Split data\n",
    "X_train1, X_test1, y_train1, y_test1 = train_test_split(X1, y1,random_state=42,stratify=y1)\n",
    "\n",
    "# test Berlin  \n",
    "result1 = loaded_model.score(X_test1, y_test1)\n",
    "\n",
    "print(\"the result of NY dataset\")\n",
    "print(result1)\n"
   ]
  },
  {
   "cell_type": "code",
   "execution_count": null,
   "metadata": {},
   "outputs": [],
   "source": []
  },
  {
   "cell_type": "code",
   "execution_count": null,
   "metadata": {},
   "outputs": [],
   "source": []
  },
  {
   "cell_type": "markdown",
   "metadata": {},
   "source": [
    "# The Results summary "
   ]
  },
  {
   "cell_type": "code",
   "execution_count": 2,
   "metadata": {},
   "outputs": [],
   "source": [
    "import pandas as pd"
   ]
  },
  {
   "cell_type": "code",
   "execution_count": 3,
   "metadata": {},
   "outputs": [
    {
     "data": {
      "text/html": [
       "<div>\n",
       "<style scoped>\n",
       "    .dataframe tbody tr th:only-of-type {\n",
       "        vertical-align: middle;\n",
       "    }\n",
       "\n",
       "    .dataframe tbody tr th {\n",
       "        vertical-align: top;\n",
       "    }\n",
       "\n",
       "    .dataframe thead th {\n",
       "        text-align: right;\n",
       "    }\n",
       "</style>\n",
       "<table border=\"1\" class=\"dataframe\">\n",
       "  <thead>\n",
       "    <tr style=\"text-align: right;\">\n",
       "      <th></th>\n",
       "      <th>Location</th>\n",
       "      <th>Accuracy</th>\n",
       "    </tr>\n",
       "  </thead>\n",
       "  <tbody>\n",
       "    <tr>\n",
       "      <th>0</th>\n",
       "      <td>Melbourne</td>\n",
       "      <td>0.33</td>\n",
       "    </tr>\n",
       "    <tr>\n",
       "      <th>1</th>\n",
       "      <td>Berlin</td>\n",
       "      <td>0.60</td>\n",
       "    </tr>\n",
       "    <tr>\n",
       "      <th>2</th>\n",
       "      <td>New York</td>\n",
       "      <td>0.66</td>\n",
       "    </tr>\n",
       "  </tbody>\n",
       "</table>\n",
       "</div>"
      ],
      "text/plain": [
       "    Location  Accuracy\n",
       "0  Melbourne      0.33\n",
       "1     Berlin      0.60\n",
       "2   New York      0.66"
      ]
     },
     "execution_count": 3,
     "metadata": {},
     "output_type": "execute_result"
    }
   ],
   "source": [
    "accuracys = {\"Location\":[\"Melbourne\",\"Berlin\",\"New York\"],\n",
    "            \"Accuracy\": [0.33,0.6,0.66]}\n",
    "\n",
    "accuracy_table = pd.DataFrame(accuracys,columns =[\"Location\",\"Accuracy\"])\n",
    "accuracy_table"
   ]
  },
  {
   "cell_type": "code",
   "execution_count": null,
   "metadata": {},
   "outputs": [],
   "source": []
  }
 ],
 "metadata": {
  "kernelspec": {
   "display_name": "Python 3",
   "language": "python",
   "name": "python3"
  }
 },
 "nbformat": 4,
 "nbformat_minor": 4
}
